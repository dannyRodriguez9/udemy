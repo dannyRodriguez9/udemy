{
 "cells": [
  {
   "cell_type": "code",
   "execution_count": 1,
   "metadata": {},
   "outputs": [
    {
     "name": "stdout",
     "output_type": "stream",
     "text": [
      "Collecting numpy\n",
      "  Obtaining dependency information for numpy from https://files.pythonhosted.org/packages/93/fd/3f826c6d15d3bdcf65b8031e4835c52b7d9c45add25efa2314b53850e1a2/numpy-1.26.0-cp311-cp311-win_amd64.whl.metadata\n",
      "  Downloading numpy-1.26.0-cp311-cp311-win_amd64.whl.metadata (61 kB)\n",
      "     ---------------------------------------- 0.0/61.1 kB ? eta -:--:--\n",
      "     ------------- -------------------------- 20.5/61.1 kB ? eta -:--:--\n",
      "     ------------------------------- ------ 51.2/61.1 kB 525.1 kB/s eta 0:00:01\n",
      "     -------------------------------------- 61.1/61.1 kB 540.9 kB/s eta 0:00:00\n",
      "Downloading numpy-1.26.0-cp311-cp311-win_amd64.whl (15.8 MB)\n",
      "   ---------------------------------------- 0.0/15.8 MB ? eta -:--:--\n",
      "   ---------------------------------------- 0.1/15.8 MB 2.6 MB/s eta 0:00:06\n",
      "    --------------------------------------- 0.2/15.8 MB 2.9 MB/s eta 0:00:06\n",
      "   - -------------------------------------- 0.5/15.8 MB 3.5 MB/s eta 0:00:05\n",
      "   - -------------------------------------- 0.7/15.8 MB 4.5 MB/s eta 0:00:04\n",
      "   -- ------------------------------------- 1.2/15.8 MB 5.7 MB/s eta 0:00:03\n",
      "   --- ------------------------------------ 1.4/15.8 MB 5.7 MB/s eta 0:00:03\n",
      "   ---- ----------------------------------- 1.8/15.8 MB 5.9 MB/s eta 0:00:03\n",
      "   ----- ---------------------------------- 2.2/15.8 MB 6.3 MB/s eta 0:00:03\n",
      "   ------ --------------------------------- 2.6/15.8 MB 6.3 MB/s eta 0:00:03\n",
      "   ------- -------------------------------- 2.9/15.8 MB 6.7 MB/s eta 0:00:02\n",
      "   -------- ------------------------------- 3.2/15.8 MB 6.8 MB/s eta 0:00:02\n",
      "   -------- ------------------------------- 3.5/15.8 MB 6.7 MB/s eta 0:00:02\n",
      "   --------- ------------------------------ 3.9/15.8 MB 6.8 MB/s eta 0:00:02\n",
      "   ---------- ----------------------------- 4.3/15.8 MB 7.0 MB/s eta 0:00:02\n",
      "   ----------- ---------------------------- 4.7/15.8 MB 7.1 MB/s eta 0:00:02\n",
      "   ------------ --------------------------- 4.9/15.8 MB 7.1 MB/s eta 0:00:02\n",
      "   ------------- -------------------------- 5.2/15.8 MB 6.9 MB/s eta 0:00:02\n",
      "   ------------- -------------------------- 5.5/15.8 MB 6.7 MB/s eta 0:00:02\n",
      "   -------------- ------------------------- 5.8/15.8 MB 6.9 MB/s eta 0:00:02\n",
      "   --------------- ------------------------ 6.1/15.8 MB 6.7 MB/s eta 0:00:02\n",
      "   ---------------- ----------------------- 6.5/15.8 MB 6.8 MB/s eta 0:00:02\n",
      "   ----------------- ---------------------- 6.9/15.8 MB 7.0 MB/s eta 0:00:02\n",
      "   ----------------- ---------------------- 6.9/15.8 MB 7.0 MB/s eta 0:00:02\n",
      "   -------------------- ------------------- 7.9/15.8 MB 7.3 MB/s eta 0:00:02\n",
      "   --------------------- ------------------ 8.4/15.8 MB 7.4 MB/s eta 0:00:02\n",
      "   ---------------------- ----------------- 8.9/15.8 MB 7.5 MB/s eta 0:00:01\n",
      "   ----------------------- ---------------- 9.5/15.8 MB 7.8 MB/s eta 0:00:01\n",
      "   ------------------------- -------------- 9.9/15.8 MB 7.9 MB/s eta 0:00:01\n",
      "   -------------------------- ------------- 10.5/15.8 MB 8.4 MB/s eta 0:00:01\n",
      "   --------------------------- ------------ 10.9/15.8 MB 8.6 MB/s eta 0:00:01\n",
      "   ---------------------------- ----------- 11.2/15.8 MB 8.7 MB/s eta 0:00:01\n",
      "   ----------------------------- ---------- 11.7/15.8 MB 8.6 MB/s eta 0:00:01\n",
      "   ------------------------------ --------- 12.2/15.8 MB 8.8 MB/s eta 0:00:01\n",
      "   -------------------------------- ------- 12.9/15.8 MB 9.0 MB/s eta 0:00:01\n",
      "   --------------------------------- ------ 13.1/15.8 MB 9.0 MB/s eta 0:00:01\n",
      "   ---------------------------------- ----- 13.7/15.8 MB 9.1 MB/s eta 0:00:01\n",
      "   ----------------------------------- ---- 14.2/15.8 MB 9.4 MB/s eta 0:00:01\n",
      "   ------------------------------------ --- 14.5/15.8 MB 9.2 MB/s eta 0:00:01\n",
      "   -------------------------------------- - 15.1/15.8 MB 9.5 MB/s eta 0:00:01\n",
      "   ---------------------------------------  15.6/15.8 MB 10.2 MB/s eta 0:00:01\n",
      "   ---------------------------------------  15.8/15.8 MB 10.2 MB/s eta 0:00:01\n",
      "   ---------------------------------------  15.8/15.8 MB 10.2 MB/s eta 0:00:01\n",
      "   ---------------------------------------  15.8/15.8 MB 10.2 MB/s eta 0:00:01\n",
      "   ---------------------------------------  15.8/15.8 MB 10.2 MB/s eta 0:00:01\n",
      "   ---------------------------------------- 15.8/15.8 MB 8.4 MB/s eta 0:00:00\n",
      "Installing collected packages: numpy\n",
      "Successfully installed numpy-1.26.0\n",
      "Note: you may need to restart the kernel to use updated packages.\n"
     ]
    }
   ],
   "source": [
    "pip install numpy"
   ]
  },
  {
   "cell_type": "code",
   "execution_count": 2,
   "metadata": {},
   "outputs": [],
   "source": [
    "import numpy as np"
   ]
  },
  {
   "cell_type": "code",
   "execution_count": 7,
   "metadata": {},
   "outputs": [
    {
     "name": "stdout",
     "output_type": "stream",
     "text": [
      "[1, 2, 3, 4, 5, 6]\n",
      "<class 'numpy.ndarray'>\n",
      "[1 2 3 4 5 6]\n"
     ]
    }
   ],
   "source": [
    "#listas\n",
    "lista=[1,2,3,4,5,6]\n",
    "array=np.array(lista)\n",
    "print(lista)\n",
    "print(type(array))\n",
    "print(array)"
   ]
  },
  {
   "cell_type": "code",
   "execution_count": 9,
   "metadata": {},
   "outputs": [
    {
     "name": "stdout",
     "output_type": "stream",
     "text": [
      "[[1 2 3]\n",
      " [2 5 6]\n",
      " [3 5 6]]\n"
     ]
    }
   ],
   "source": [
    "lista2=[[1,2,3],[2,5,6],[3,5,6]]\n",
    "array2=np.array(lista2)\n",
    "print(array2)"
   ]
  },
  {
   "cell_type": "code",
   "execution_count": 12,
   "metadata": {},
   "outputs": [
    {
     "name": "stdout",
     "output_type": "stream",
     "text": [
      "[0 1 2 3 4 5]\n",
      "[ 2  4  6  8 10 12 14]\n"
     ]
    }
   ],
   "source": [
    "#Rango de una array especificando el número\n",
    "array3=np.arange(6)\n",
    "print(array3)\n",
    "array4=np.arange(2,15,2) #inicio, al número que va, incremento\n",
    "print(array4)"
   ]
  },
  {
   "cell_type": "code",
   "execution_count": 14,
   "metadata": {},
   "outputs": [
    {
     "name": "stdout",
     "output_type": "stream",
     "text": [
      "[[0. 0. 0. 0. 0.]\n",
      " [0. 0. 0. 0. 0.]\n",
      " [0. 0. 0. 0. 0.]\n",
      " [0. 0. 0. 0. 0.]]\n"
     ]
    }
   ],
   "source": [
    "#matriz de ceros\n",
    "matriz0=np.zeros((4,5))\n",
    "print(matriz0)"
   ]
  },
  {
   "cell_type": "code",
   "execution_count": 15,
   "metadata": {},
   "outputs": [
    {
     "name": "stdout",
     "output_type": "stream",
     "text": [
      "[[1. 1. 1. 1. 1.]\n",
      " [1. 1. 1. 1. 1.]\n",
      " [1. 1. 1. 1. 1.]\n",
      " [1. 1. 1. 1. 1.]]\n"
     ]
    }
   ],
   "source": [
    "#matriz de unos\n",
    "matriz1=np.ones((4,5))\n",
    "print(matriz1)"
   ]
  },
  {
   "cell_type": "code",
   "execution_count": 16,
   "metadata": {},
   "outputs": [
    {
     "name": "stdout",
     "output_type": "stream",
     "text": [
      "[[1. 0. 0. 0. 0. 0. 0.]\n",
      " [0. 1. 0. 0. 0. 0. 0.]\n",
      " [0. 0. 1. 0. 0. 0. 0.]\n",
      " [0. 0. 0. 1. 0. 0. 0.]\n",
      " [0. 0. 0. 0. 1. 0. 0.]\n",
      " [0. 0. 0. 0. 0. 1. 0.]\n",
      " [0. 0. 0. 0. 0. 0. 1.]]\n"
     ]
    }
   ],
   "source": [
    "#matriz indentidad\n",
    "metrizIdentidad=np.eye(7)\n",
    "print(metrizIdentidad)"
   ]
  },
  {
   "cell_type": "code",
   "execution_count": 20,
   "metadata": {},
   "outputs": [
    {
     "name": "stdout",
     "output_type": "stream",
     "text": [
      "[18 43 19  5 12 22 18  3 19 20 41  8  6 26 39 22 32 35  6 41]\n"
     ]
    }
   ],
   "source": [
    "matrizAletoria=np.random.randint(1,51,20)\n",
    "print(matrizAletoria)"
   ]
  },
  {
   "cell_type": "code",
   "execution_count": 21,
   "metadata": {},
   "outputs": [
    {
     "name": "stdout",
     "output_type": "stream",
     "text": [
      "[180  88 110  59 176 193  64  36 175 182  16  23 183  43 134 178  79 120\n",
      "  96 200  91  12 118 180 189  94  40  14 103  86]\n"
     ]
    }
   ],
   "source": [
    "array=np.random.randint(1,201,30)\n",
    "print(array)"
   ]
  },
  {
   "cell_type": "code",
   "execution_count": 22,
   "metadata": {},
   "outputs": [
    {
     "name": "stdout",
     "output_type": "stream",
     "text": [
      "[[180  88 110  59 176 193]\n",
      " [ 64  36 175 182  16  23]\n",
      " [183  43 134 178  79 120]\n",
      " [ 96 200  91  12 118 180]\n",
      " [189  94  40  14 103  86]]\n"
     ]
    }
   ],
   "source": [
    "matriz=array.reshape(5,6)\n",
    "print(matriz)"
   ]
  },
  {
   "cell_type": "code",
   "execution_count": 30,
   "metadata": {},
   "outputs": [
    {
     "name": "stdout",
     "output_type": "stream",
     "text": [
      "[811 845  11 162 839 710 147 348 128 763 781 386 254 773 750 898 679 851\n",
      " 437 463 402 866 329 600 556 168 359 868  74  68  84 636 359   7 734 744\n",
      "  43 237 876  22 430 521 489 248 510 750 347 605 150 536 264 546 560 671\n",
      " 318 841 180 668 666 380 124 171 594 491 585 449 290 420 502 853 543 180\n",
      " 300 605 302 828 463 327 667 570  80 385 200 228 842 686 558 837 806 615\n",
      " 829  91 851 188 663 767  68 699 535 672 290 493 413 140 541 575 140 251\n",
      " 670  32 638  84 434 844 692 811 134 674 341 242   7  50 313 263 439 224\n",
      "  46 158 608 428 524 686 380 687 424 867 654 752 785 408 326 279 366 737\n",
      " 296 726 436 313  35 282 338 539 303 102 357 523 727 198 593  84 702 401\n",
      "  41  59 866 171 507 731 124 635 529 633 576 210   3 894  46 317 478 360\n",
      "  71 710 574 760 735 658 197 654 238 726 898 360 328 581 506   4 711 325\n",
      " 501 333]\n",
      "El valor maximo es:  898\n",
      "El valor minimo es:  3\n"
     ]
    }
   ],
   "source": [
    "array=np.random.randint(1,901,200)\n",
    "print(array)\n",
    "maximo=array.max()\n",
    "minimo=array.min()\n",
    "print(\"El valor maximo es: \", maximo)\n",
    "print(\"El valor minimo es: \", minimo)\n"
   ]
  },
  {
   "cell_type": "code",
   "execution_count": 45,
   "metadata": {},
   "outputs": [
    {
     "name": "stdout",
     "output_type": "stream",
     "text": [
      "[ 1  2  3  4  5  6  7  8  9 10]\n",
      "3\n",
      "[ 6  7  8  9 10]\n",
      "[1 2 3 4 5 6]\n"
     ]
    }
   ],
   "source": [
    "array=np.arange(1,11)\n",
    "print(array)\n",
    "print(array[2])\n",
    "print(array[5:])\n",
    "print(array[:6])"
   ]
  },
  {
   "cell_type": "code",
   "execution_count": 49,
   "metadata": {},
   "outputs": [
    {
     "name": "stdout",
     "output_type": "stream",
     "text": [
      "[   1    2    3    4 1000    6    7    8    9   10]\n",
      "[   1    2    3    4 1000    6    7    8    9   10]\n",
      "[   1    2    3    4 2000    6    7    8    9   10]\n"
     ]
    }
   ],
   "source": [
    "array2=array.copy()\n",
    "print(array)\n",
    "print(array2)\n",
    "array[4]=2000\n",
    "print(array)\n",
    "\n"
   ]
  },
  {
   "cell_type": "code",
   "execution_count": 52,
   "metadata": {},
   "outputs": [
    {
     "name": "stdout",
     "output_type": "stream",
     "text": [
      "[[180  88 110  59 176 193]\n",
      " [ 64  36 175 182  16  23]\n",
      " [183  43 134 178  79 120]\n",
      " [ 96 200  91  12 118 180]\n",
      " [189  94  40  14 103  86]]\n"
     ]
    }
   ],
   "source": [
    "print(matriz)"
   ]
  },
  {
   "cell_type": "code",
   "execution_count": 55,
   "metadata": {},
   "outputs": [
    {
     "name": "stdout",
     "output_type": "stream",
     "text": [
      "[180  88 110  59 176 193]\n",
      "[[180  88 110  59 176 193]\n",
      " [ 64  36 175 182  16  23]]\n",
      "175\n"
     ]
    }
   ],
   "source": [
    "print(matriz[0])\n",
    "print(matriz[:2])\n",
    "print(matriz[1][2])"
   ]
  },
  {
   "cell_type": "code",
   "execution_count": 57,
   "metadata": {},
   "outputs": [
    {
     "name": "stdout",
     "output_type": "stream",
     "text": [
      "[[180]\n",
      " [ 64]\n",
      " [183]\n",
      " [ 96]\n",
      " [189]]\n"
     ]
    }
   ],
   "source": [
    "print(matriz[:,:1])"
   ]
  },
  {
   "cell_type": "code",
   "execution_count": 59,
   "metadata": {},
   "outputs": [
    {
     "name": "stdout",
     "output_type": "stream",
     "text": [
      "[[180  88 110  59 176 193]\n",
      " [ 64  36 175 182  16  23]\n",
      " [183  43 134 178  79 120]\n",
      " [ 96 200  91  12 118 180]\n",
      " [189  94  40  14 103  86]]\n",
      "-----------------------------\n",
      "[[190  98 120  69 186 203]\n",
      " [ 74  46 185 192  26  33]\n",
      " [193  53 144 188  89 130]\n",
      " [106 210 101  22 128 190]\n",
      " [199 104  50  24 113  96]]\n"
     ]
    }
   ],
   "source": [
    "#operaciones con matrices\n",
    "print(matriz)\n",
    "print(\"-----------------------------\")\n",
    "print(matriz+10)"
   ]
  },
  {
   "cell_type": "code",
   "execution_count": 60,
   "metadata": {},
   "outputs": [
    {
     "name": "stdout",
     "output_type": "stream",
     "text": [
      "[[360 176 220 118 352 386]\n",
      " [128  72 350 364  32  46]\n",
      " [366  86 268 356 158 240]\n",
      " [192 400 182  24 236 360]\n",
      " [378 188  80  28 206 172]]\n"
     ]
    }
   ],
   "source": [
    "print(matriz+matriz)"
   ]
  },
  {
   "cell_type": "code",
   "execution_count": 61,
   "metadata": {},
   "outputs": [
    {
     "name": "stdout",
     "output_type": "stream",
     "text": [
      "[[1800  880 1100  590 1760 1930]\n",
      " [ 640  360 1750 1820  160  230]\n",
      " [1830  430 1340 1780  790 1200]\n",
      " [ 960 2000  910  120 1180 1800]\n",
      " [1890  940  400  140 1030  860]]\n"
     ]
    }
   ],
   "source": [
    "print(matriz*10)"
   ]
  },
  {
   "cell_type": "code",
   "execution_count": 63,
   "metadata": {},
   "outputs": [
    {
     "name": "stdout",
     "output_type": "stream",
     "text": [
      "200\n"
     ]
    }
   ],
   "source": [
    "print(np.max(matriz))"
   ]
  },
  {
   "cell_type": "code",
   "execution_count": 65,
   "metadata": {},
   "outputs": [
    {
     "name": "stdout",
     "output_type": "stream",
     "text": [
      "[[ True False  True False  True  True]\n",
      " [False False  True  True False False]\n",
      " [ True False  True  True False  True]\n",
      " [False  True False False  True  True]\n",
      " [ True False False False  True False]]\n"
     ]
    }
   ],
   "source": [
    "#condiciones\n",
    "condiciones=matriz>100\n",
    "print(condiciones)"
   ]
  },
  {
   "cell_type": "code",
   "execution_count": 67,
   "metadata": {},
   "outputs": [
    {
     "name": "stdout",
     "output_type": "stream",
     "text": [
      "[[False False False  True False  True]\n",
      " [False False  True False False  True]\n",
      " [ True  True False False  True False]\n",
      " [False False  True False False False]\n",
      " [ True False False False  True False]]\n"
     ]
    }
   ],
   "source": [
    "condiciones=(matriz%2!=0)\n",
    "print(condiciones)\n",
    "#print(matriz[condiciones])"
   ]
  },
  {
   "cell_type": "code",
   "execution_count": 69,
   "metadata": {},
   "outputs": [
    {
     "name": "stdout",
     "output_type": "stream",
     "text": [
      "[ 5  6  7  8  9 10 11 12 13 14 15 16 17 18 19 20 21 22 23 24 25 26 27 28\n",
      " 29 30 31 32 33 34 35 36 37 38 39 40]\n"
     ]
    }
   ],
   "source": [
    "lista=np.arange(5,41)\n",
    "print(lista)"
   ]
  },
  {
   "cell_type": "code",
   "execution_count": 70,
   "metadata": {},
   "outputs": [
    {
     "name": "stdout",
     "output_type": "stream",
     "text": [
      "[[ 5  6  7  8  9 10 11 12 13 14 15 16]\n",
      " [17 18 19 20 21 22 23 24 25 26 27 28]\n",
      " [29 30 31 32 33 34 35 36 37 38 39 40]]\n"
     ]
    }
   ],
   "source": [
    "lista=lista.reshape(3,12)\n",
    "print(lista)"
   ]
  },
  {
   "cell_type": "code",
   "execution_count": 71,
   "metadata": {},
   "outputs": [
    {
     "name": "stdout",
     "output_type": "stream",
     "text": [
      "33\n"
     ]
    }
   ],
   "source": [
    "print(lista[2,4])"
   ]
  },
  {
   "cell_type": "code",
   "execution_count": 72,
   "metadata": {},
   "outputs": [
    {
     "name": "stdout",
     "output_type": "stream",
     "text": [
      "La combinación ganadora es:  [26 13 11 25 19 46]\n"
     ]
    }
   ],
   "source": [
    "arrayPrimitiva=np.random.randint(1,50,6) # va de 1 al 49 (1,50) y elegi 6 numeros\n",
    "print(\"La combinación ganadora es: \", arrayPrimitiva)"
   ]
  }
 ],
 "metadata": {
  "kernelspec": {
   "display_name": "Python 3",
   "language": "python",
   "name": "python3"
  },
  "language_info": {
   "codemirror_mode": {
    "name": "ipython",
    "version": 3
   },
   "file_extension": ".py",
   "mimetype": "text/x-python",
   "name": "python",
   "nbconvert_exporter": "python",
   "pygments_lexer": "ipython3",
   "version": "3.11.5"
  },
  "orig_nbformat": 4
 },
 "nbformat": 4,
 "nbformat_minor": 2
}
