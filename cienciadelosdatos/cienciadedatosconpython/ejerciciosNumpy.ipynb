{
 "cells": [
  {
   "cell_type": "code",
   "execution_count": 1,
   "metadata": {},
   "outputs": [],
   "source": [
    "import numpy as np"
   ]
  },
  {
   "cell_type": "code",
   "execution_count": 3,
   "metadata": {},
   "outputs": [
    {
     "name": "stdout",
     "output_type": "stream",
     "text": [
      "La matriz 1 es: \n",
      "[[ 1  2]\n",
      " [10 30]]\n",
      "La matriz 2 es: \n",
      "[[34 55]\n",
      " [56 70]]\n",
      "El resultado de sumar las dos matrices es: \n",
      "[[ 35  57]\n",
      " [ 66 100]]\n"
     ]
    }
   ],
   "source": [
    "#Ejercicio 1: sumar dos matrices y obtener los resultados\n",
    "matriz1=np.array([[1,2],[10,30]])\n",
    "matriz2=np.array([[34,55],[56,70]])\n",
    "resultado=matriz1+matriz2\n",
    "print(\"La matriz 1 es: \")\n",
    "print(matriz1)\n",
    "print(\"La matriz 2 es: \")\n",
    "print(matriz2)\n",
    "print(\"El resultado de sumar las dos matrices es: \")\n",
    "print(resultado)"
   ]
  },
  {
   "cell_type": "code",
   "execution_count": 4,
   "metadata": {},
   "outputs": [
    {
     "name": "stdout",
     "output_type": "stream",
     "text": [
      "Arreglo\n",
      "[0. 1. 2. 3. 4. 5. 6. 7. 8. 9.]\n"
     ]
    }
   ],
   "source": [
    "#Un array con valor espaciados\n",
    "arreglo=np.linspace(0,9,10)\n",
    "print(\"Arreglo\")\n",
    "print(arreglo)"
   ]
  },
  {
   "cell_type": "code",
   "execution_count": 15,
   "metadata": {},
   "outputs": [
    {
     "name": "stdout",
     "output_type": "stream",
     "text": [
      "Media: 19.0 Suma: 76 Maximo: 55 Minimo: 3\n"
     ]
    }
   ],
   "source": [
    "#Operaciones\n",
    "arreglo=np.array([3,6,55,12])\n",
    "media=np.mean(arreglo)\n",
    "suma=np.sum(arreglo)\n",
    "maximo=np.max(arreglo)\n",
    "minimo=np.min(arreglo)\n",
    "print(\"Media:\",media, \"Suma:\",suma, \"Maximo:\",maximo, \"Minimo:\",minimo )"
   ]
  },
  {
   "cell_type": "code",
   "execution_count": 16,
   "metadata": {},
   "outputs": [
    {
     "name": "stdout",
     "output_type": "stream",
     "text": [
      "Primeros 10:  [0.35923732 0.77395463 0.31036915 0.17600553 0.81982417 0.74745746\n",
      " 0.17209122 0.03660317 0.62203549 0.84160307]\n"
     ]
    }
   ],
   "source": [
    "datosAleatorios=np.random.rand(1000)\n",
    "print(\"Primeros 10: \", datosAleatorios[:10])"
   ]
  },
  {
   "cell_type": "code",
   "execution_count": 17,
   "metadata": {},
   "outputs": [
    {
     "name": "stdout",
     "output_type": "stream",
     "text": [
      "Media: 23.666666666666668 Mediana: 24.0 Desviación estandar: 3.972125095937662\n"
     ]
    }
   ],
   "source": [
    "datos=np.array([22,18,25,30,28,24,20,19,27])\n",
    "media=np.mean(datos)\n",
    "mediana=np.median(datos)\n",
    "desviacionEstandar=np.std(datos)\n",
    "print(\"Media:\",media, \"Mediana:\",mediana, \"Desviación estandar:\",desviacionEstandar)\n"
   ]
  },
  {
   "cell_type": "code",
   "execution_count": 20,
   "metadata": {},
   "outputs": [
    {
     "name": "stdout",
     "output_type": "stream",
     "text": [
      "Los datos mayores a 10  son los siguientes: \n",
      "[12 15 18 14 11]\n"
     ]
    }
   ],
   "source": [
    "datos=np.array([12,8,15,10,6,18,7,14,9,11])\n",
    "umbral=10\n",
    "datosMayoresA10=datos[datos>umbral]\n",
    "print(\"Los datos mayores a\",umbral,\" son los siguientes: \")\n",
    "print(datosMayoresA10)"
   ]
  },
  {
   "cell_type": "code",
   "execution_count": 21,
   "metadata": {},
   "outputs": [
    {
     "name": "stdout",
     "output_type": "stream",
     "text": [
      "Matriz original: \n",
      "[[ 3  4  5]\n",
      " [89 90 85]\n",
      " [23 45 78]]\n",
      "Matriz transpuesta: \n",
      "[[ 3 89 23]\n",
      " [ 4 90 45]\n",
      " [ 5 85 78]]\n",
      "Producto de matrices: \n",
      "[[  480   597   745]\n",
      " [10232 12281 14725]\n",
      " [ 5868  7652 10024]]\n"
     ]
    }
   ],
   "source": [
    "matriz=np.array([[3,4,5],[89,90,85],[23,45,78]])\n",
    "matrizTranspuesta=matriz.T\n",
    "matrizProducto=np.dot(matriz,matriz)\n",
    "print(\"Matriz original: \")\n",
    "print(matriz)\n",
    "print(\"Matriz transpuesta: \")\n",
    "print(matrizTranspuesta)\n",
    "print(\"Producto de matrices: \")\n",
    "print(matrizProducto)\n"
   ]
  },
  {
   "cell_type": "code",
   "execution_count": 26,
   "metadata": {},
   "outputs": [
    {
     "name": "stdout",
     "output_type": "stream",
     "text": [
      "Arreglo: \n",
      "[0 1 2 3 4 5 6 7 8 9]\n",
      "Matriz Resaped\n",
      "[[0 1 2 3 4]\n",
      " [5 6 7 8 9]]\n",
      "Matriz concatenada: \n",
      "[[ 0  1  2  3  4]\n",
      " [ 5  6  7  8  9]\n",
      " [11 12 13 14 15]\n",
      " [16 17 18 19 20]]\n"
     ]
    }
   ],
   "source": [
    "arreglo=np.arange(10)\n",
    "matrizResaped=arreglo.reshape(2,5)\n",
    "matriz=np.array([[11,12,13,14,15],[16,17,18,19,20]])\n",
    "matrizConcat=np.concatenate((matrizResaped,matriz),axis=0) #con axis=0 seleccionamos el largo de la columna\n",
    "\n",
    "print(\"Arreglo: \")\n",
    "print(arreglo)\n",
    "print(\"Matriz Resaped\")\n",
    "print(matrizResaped)\n",
    "print(\"Matriz concatenada: \")\n",
    "print(matrizConcat)"
   ]
  }
 ],
 "metadata": {
  "kernelspec": {
   "display_name": "Python 3",
   "language": "python",
   "name": "python3"
  },
  "language_info": {
   "codemirror_mode": {
    "name": "ipython",
    "version": 3
   },
   "file_extension": ".py",
   "mimetype": "text/x-python",
   "name": "python",
   "nbconvert_exporter": "python",
   "pygments_lexer": "ipython3",
   "version": "3.11.5"
  },
  "orig_nbformat": 4
 },
 "nbformat": 4,
 "nbformat_minor": 2
}
