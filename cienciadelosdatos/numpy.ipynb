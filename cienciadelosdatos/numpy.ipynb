{
 "cells": [
  {
   "cell_type": "code",
   "execution_count": 1,
   "metadata": {},
   "outputs": [
    {
     "name": "stdout",
     "output_type": "stream",
     "text": [
      "Collecting numpy\n",
      "  Obtaining dependency information for numpy from https://files.pythonhosted.org/packages/93/fd/3f826c6d15d3bdcf65b8031e4835c52b7d9c45add25efa2314b53850e1a2/numpy-1.26.0-cp311-cp311-win_amd64.whl.metadata\n",
      "  Downloading numpy-1.26.0-cp311-cp311-win_amd64.whl.metadata (61 kB)\n",
      "     ---------------------------------------- 0.0/61.1 kB ? eta -:--:--\n",
      "     ------------- -------------------------- 20.5/61.1 kB ? eta -:--:--\n",
      "     ------------------------------- ------ 51.2/61.1 kB 525.1 kB/s eta 0:00:01\n",
      "     -------------------------------------- 61.1/61.1 kB 540.9 kB/s eta 0:00:00\n",
      "Downloading numpy-1.26.0-cp311-cp311-win_amd64.whl (15.8 MB)\n",
      "   ---------------------------------------- 0.0/15.8 MB ? eta -:--:--\n",
      "   ---------------------------------------- 0.1/15.8 MB 2.6 MB/s eta 0:00:06\n",
      "    --------------------------------------- 0.2/15.8 MB 2.9 MB/s eta 0:00:06\n",
      "   - -------------------------------------- 0.5/15.8 MB 3.5 MB/s eta 0:00:05\n",
      "   - -------------------------------------- 0.7/15.8 MB 4.5 MB/s eta 0:00:04\n",
      "   -- ------------------------------------- 1.2/15.8 MB 5.7 MB/s eta 0:00:03\n",
      "   --- ------------------------------------ 1.4/15.8 MB 5.7 MB/s eta 0:00:03\n",
      "   ---- ----------------------------------- 1.8/15.8 MB 5.9 MB/s eta 0:00:03\n",
      "   ----- ---------------------------------- 2.2/15.8 MB 6.3 MB/s eta 0:00:03\n",
      "   ------ --------------------------------- 2.6/15.8 MB 6.3 MB/s eta 0:00:03\n",
      "   ------- -------------------------------- 2.9/15.8 MB 6.7 MB/s eta 0:00:02\n",
      "   -------- ------------------------------- 3.2/15.8 MB 6.8 MB/s eta 0:00:02\n",
      "   -------- ------------------------------- 3.5/15.8 MB 6.7 MB/s eta 0:00:02\n",
      "   --------- ------------------------------ 3.9/15.8 MB 6.8 MB/s eta 0:00:02\n",
      "   ---------- ----------------------------- 4.3/15.8 MB 7.0 MB/s eta 0:00:02\n",
      "   ----------- ---------------------------- 4.7/15.8 MB 7.1 MB/s eta 0:00:02\n",
      "   ------------ --------------------------- 4.9/15.8 MB 7.1 MB/s eta 0:00:02\n",
      "   ------------- -------------------------- 5.2/15.8 MB 6.9 MB/s eta 0:00:02\n",
      "   ------------- -------------------------- 5.5/15.8 MB 6.7 MB/s eta 0:00:02\n",
      "   -------------- ------------------------- 5.8/15.8 MB 6.9 MB/s eta 0:00:02\n",
      "   --------------- ------------------------ 6.1/15.8 MB 6.7 MB/s eta 0:00:02\n",
      "   ---------------- ----------------------- 6.5/15.8 MB 6.8 MB/s eta 0:00:02\n",
      "   ----------------- ---------------------- 6.9/15.8 MB 7.0 MB/s eta 0:00:02\n",
      "   ----------------- ---------------------- 6.9/15.8 MB 7.0 MB/s eta 0:00:02\n",
      "   -------------------- ------------------- 7.9/15.8 MB 7.3 MB/s eta 0:00:02\n",
      "   --------------------- ------------------ 8.4/15.8 MB 7.4 MB/s eta 0:00:02\n",
      "   ---------------------- ----------------- 8.9/15.8 MB 7.5 MB/s eta 0:00:01\n",
      "   ----------------------- ---------------- 9.5/15.8 MB 7.8 MB/s eta 0:00:01\n",
      "   ------------------------- -------------- 9.9/15.8 MB 7.9 MB/s eta 0:00:01\n",
      "   -------------------------- ------------- 10.5/15.8 MB 8.4 MB/s eta 0:00:01\n",
      "   --------------------------- ------------ 10.9/15.8 MB 8.6 MB/s eta 0:00:01\n",
      "   ---------------------------- ----------- 11.2/15.8 MB 8.7 MB/s eta 0:00:01\n",
      "   ----------------------------- ---------- 11.7/15.8 MB 8.6 MB/s eta 0:00:01\n",
      "   ------------------------------ --------- 12.2/15.8 MB 8.8 MB/s eta 0:00:01\n",
      "   -------------------------------- ------- 12.9/15.8 MB 9.0 MB/s eta 0:00:01\n",
      "   --------------------------------- ------ 13.1/15.8 MB 9.0 MB/s eta 0:00:01\n",
      "   ---------------------------------- ----- 13.7/15.8 MB 9.1 MB/s eta 0:00:01\n",
      "   ----------------------------------- ---- 14.2/15.8 MB 9.4 MB/s eta 0:00:01\n",
      "   ------------------------------------ --- 14.5/15.8 MB 9.2 MB/s eta 0:00:01\n",
      "   -------------------------------------- - 15.1/15.8 MB 9.5 MB/s eta 0:00:01\n",
      "   ---------------------------------------  15.6/15.8 MB 10.2 MB/s eta 0:00:01\n",
      "   ---------------------------------------  15.8/15.8 MB 10.2 MB/s eta 0:00:01\n",
      "   ---------------------------------------  15.8/15.8 MB 10.2 MB/s eta 0:00:01\n",
      "   ---------------------------------------  15.8/15.8 MB 10.2 MB/s eta 0:00:01\n",
      "   ---------------------------------------  15.8/15.8 MB 10.2 MB/s eta 0:00:01\n",
      "   ---------------------------------------- 15.8/15.8 MB 8.4 MB/s eta 0:00:00\n",
      "Installing collected packages: numpy\n",
      "Successfully installed numpy-1.26.0\n",
      "Note: you may need to restart the kernel to use updated packages.\n"
     ]
    }
   ],
   "source": [
    "pip install numpy"
   ]
  },
  {
   "cell_type": "code",
   "execution_count": 2,
   "metadata": {},
   "outputs": [],
   "source": [
    "import numpy as np"
   ]
  },
  {
   "cell_type": "code",
   "execution_count": 7,
   "metadata": {},
   "outputs": [
    {
     "name": "stdout",
     "output_type": "stream",
     "text": [
      "[1, 2, 3, 4, 5, 6]\n",
      "<class 'numpy.ndarray'>\n",
      "[1 2 3 4 5 6]\n"
     ]
    }
   ],
   "source": [
    "#listas\n",
    "lista=[1,2,3,4,5,6]\n",
    "array=np.array(lista)\n",
    "print(lista)\n",
    "print(type(array))\n",
    "print(array)"
   ]
  },
  {
   "cell_type": "code",
   "execution_count": 9,
   "metadata": {},
   "outputs": [
    {
     "name": "stdout",
     "output_type": "stream",
     "text": [
      "[[1 2 3]\n",
      " [2 5 6]\n",
      " [3 5 6]]\n"
     ]
    }
   ],
   "source": [
    "lista2=[[1,2,3],[2,5,6],[3,5,6]]\n",
    "array2=np.array(lista2)\n",
    "print(array2)"
   ]
  },
  {
   "cell_type": "code",
   "execution_count": 12,
   "metadata": {},
   "outputs": [
    {
     "name": "stdout",
     "output_type": "stream",
     "text": [
      "[0 1 2 3 4 5]\n",
      "[ 2  4  6  8 10 12 14]\n"
     ]
    }
   ],
   "source": [
    "#Rango de una array especificando el número\n",
    "array3=np.arange(6)\n",
    "print(array3)\n",
    "array4=np.arange(2,15,2) #inicio, al número que va, incremento\n",
    "print(array4)"
   ]
  },
  {
   "cell_type": "code",
   "execution_count": 14,
   "metadata": {},
   "outputs": [
    {
     "name": "stdout",
     "output_type": "stream",
     "text": [
      "[[0. 0. 0. 0. 0.]\n",
      " [0. 0. 0. 0. 0.]\n",
      " [0. 0. 0. 0. 0.]\n",
      " [0. 0. 0. 0. 0.]]\n"
     ]
    }
   ],
   "source": [
    "#matriz de ceros\n",
    "matriz0=np.zeros((4,5))\n",
    "print(matriz0)"
   ]
  },
  {
   "cell_type": "code",
   "execution_count": 15,
   "metadata": {},
   "outputs": [
    {
     "name": "stdout",
     "output_type": "stream",
     "text": [
      "[[1. 1. 1. 1. 1.]\n",
      " [1. 1. 1. 1. 1.]\n",
      " [1. 1. 1. 1. 1.]\n",
      " [1. 1. 1. 1. 1.]]\n"
     ]
    }
   ],
   "source": [
    "#matriz de unos\n",
    "matriz1=np.ones((4,5))\n",
    "print(matriz1)"
   ]
  },
  {
   "cell_type": "code",
   "execution_count": 16,
   "metadata": {},
   "outputs": [
    {
     "name": "stdout",
     "output_type": "stream",
     "text": [
      "[[1. 0. 0. 0. 0. 0. 0.]\n",
      " [0. 1. 0. 0. 0. 0. 0.]\n",
      " [0. 0. 1. 0. 0. 0. 0.]\n",
      " [0. 0. 0. 1. 0. 0. 0.]\n",
      " [0. 0. 0. 0. 1. 0. 0.]\n",
      " [0. 0. 0. 0. 0. 1. 0.]\n",
      " [0. 0. 0. 0. 0. 0. 1.]]\n"
     ]
    }
   ],
   "source": [
    "#matriz indentidad\n",
    "metrizIdentidad=np.eye(7)\n",
    "print(metrizIdentidad)"
   ]
  },
  {
   "cell_type": "code",
   "execution_count": 20,
   "metadata": {},
   "outputs": [
    {
     "name": "stdout",
     "output_type": "stream",
     "text": [
      "[18 43 19  5 12 22 18  3 19 20 41  8  6 26 39 22 32 35  6 41]\n"
     ]
    }
   ],
   "source": [
    "matrizAletoria=np.random.randint(1,51,20)\n",
    "print(matrizAletoria)"
   ]
  },
  {
   "cell_type": "code",
   "execution_count": 21,
   "metadata": {},
   "outputs": [
    {
     "name": "stdout",
     "output_type": "stream",
     "text": [
      "[180  88 110  59 176 193  64  36 175 182  16  23 183  43 134 178  79 120\n",
      "  96 200  91  12 118 180 189  94  40  14 103  86]\n"
     ]
    }
   ],
   "source": [
    "array=np.random.randint(1,201,30)\n",
    "print(array)"
   ]
  },
  {
   "cell_type": "code",
   "execution_count": 22,
   "metadata": {},
   "outputs": [
    {
     "name": "stdout",
     "output_type": "stream",
     "text": [
      "[[180  88 110  59 176 193]\n",
      " [ 64  36 175 182  16  23]\n",
      " [183  43 134 178  79 120]\n",
      " [ 96 200  91  12 118 180]\n",
      " [189  94  40  14 103  86]]\n"
     ]
    }
   ],
   "source": [
    "matriz=array.reshape(5,6)\n",
    "print(matriz)"
   ]
  },
  {
   "cell_type": "code",
   "execution_count": 27,
   "metadata": {},
   "outputs": [
    {
     "name": "stdout",
     "output_type": "stream",
     "text": [
      "[311 328 828 113 273 664 671 583 549 879 688 827 591 739  77 574 479 206\n",
      " 430 708 589 773 519 832 156 246 451 528 410 494 159 206 381 297 819 891\n",
      " 103 794 305 828 274 434 523 588 853 306 128 837 438 413 476 746  17 846\n",
      " 832 522 515 794 694 624  90 618 335 429 868 202 138 456  16 826 200 147\n",
      " 389 386 766 650 579 410  48 484 501 225 456 753 838 481 598 381 340 498\n",
      "  17 826 196 828 289 743  68 157 463 107 880  58 520 705 188 543 241  67\n",
      " 596 159 369 336 355 115  43 302 630 618 261 786 888 857 576 309 771 347\n",
      " 548 544 519  69 835 237 322 408  45 174  99 435  42 766  66 251 107 360\n",
      " 445 627 541 615 386 823  62 354   4 577 502  24 768 546 734 789 636 636\n",
      " 463  64  70 467 528 651 741 459 365 812  90 187  56  49 160 170 856 564\n",
      " 387 348 122 460 899 125 278 155 249 463 695 262 699 499 183 890 256 299\n",
      " 610 257]\n"
     ]
    },
    {
     "ename": "TypeError",
     "evalue": "can only concatenate str (not \"builtin_function_or_method\") to str",
     "output_type": "error",
     "traceback": [
      "\u001b[1;31m---------------------------------------------------------------------------\u001b[0m",
      "\u001b[1;31mTypeError\u001b[0m                                 Traceback (most recent call last)",
      "\u001b[1;32mc:\\Users\\USER\\Documents\\udemy\\cienciadelosdatos\\numpy.ipynb Cell 12\u001b[0m line \u001b[0;36m4\n\u001b[0;32m      <a href='vscode-notebook-cell:/c%3A/Users/USER/Documents/udemy/cienciadelosdatos/numpy.ipynb#X15sZmlsZQ%3D%3D?line=1'>2</a>\u001b[0m \u001b[39mprint\u001b[39m(array)\n\u001b[0;32m      <a href='vscode-notebook-cell:/c%3A/Users/USER/Documents/udemy/cienciadelosdatos/numpy.ipynb#X15sZmlsZQ%3D%3D?line=2'>3</a>\u001b[0m maximo\u001b[39m=\u001b[39marray\u001b[39m.\u001b[39mmax\n\u001b[1;32m----> <a href='vscode-notebook-cell:/c%3A/Users/USER/Documents/udemy/cienciadelosdatos/numpy.ipynb#X15sZmlsZQ%3D%3D?line=3'>4</a>\u001b[0m \u001b[39mprint\u001b[39m(\u001b[39mf\u001b[39;49m\u001b[39m\"\u001b[39;49m\u001b[39mEl valor maximo es: \u001b[39;49m\u001b[39m\"\u001b[39;49m\u001b[39m+\u001b[39;49m maximo)\n",
      "\u001b[1;31mTypeError\u001b[0m: can only concatenate str (not \"builtin_function_or_method\") to str"
     ]
    }
   ],
   "source": [
    "array=np.random.randint(1,901,200)\n",
    "print(array)\n",
    "maximo=array.max()\n",
    "print(\"El valor maximo es: \"+ maximo)"
   ]
  }
 ],
 "metadata": {
  "kernelspec": {
   "display_name": "Python 3",
   "language": "python",
   "name": "python3"
  },
  "language_info": {
   "codemirror_mode": {
    "name": "ipython",
    "version": 3
   },
   "file_extension": ".py",
   "mimetype": "text/x-python",
   "name": "python",
   "nbconvert_exporter": "python",
   "pygments_lexer": "ipython3",
   "version": "3.11.5"
  },
  "orig_nbformat": 4
 },
 "nbformat": 4,
 "nbformat_minor": 2
}
