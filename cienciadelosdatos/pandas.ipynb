{
 "cells": [
  {
   "cell_type": "code",
   "execution_count": 2,
   "metadata": {},
   "outputs": [
    {
     "name": "stdout",
     "output_type": "stream",
     "text": [
      "Collecting pandas\n",
      "  Obtaining dependency information for pandas from https://files.pythonhosted.org/packages/b7/f8/32d6b5aa4c4bc045fa2c4c58f88c325facc54721956c6313f0afea8ea853/pandas-2.1.0-cp311-cp311-win_amd64.whl.metadata\n",
      "  Downloading pandas-2.1.0-cp311-cp311-win_amd64.whl.metadata (18 kB)\n",
      "Requirement already satisfied: numpy>=1.23.2 in c:\\users\\user\\appdata\\local\\programs\\python\\python311\\lib\\site-packages (from pandas) (1.26.0)\n",
      "Requirement already satisfied: python-dateutil>=2.8.2 in c:\\users\\user\\appdata\\roaming\\python\\python311\\site-packages (from pandas) (2.8.2)\n",
      "Collecting pytz>=2020.1 (from pandas)\n",
      "  Obtaining dependency information for pytz>=2020.1 from https://files.pythonhosted.org/packages/32/4d/aaf7eff5deb402fd9a24a1449a8119f00d74ae9c2efa79f8ef9994261fc2/pytz-2023.3.post1-py2.py3-none-any.whl.metadata\n",
      "  Downloading pytz-2023.3.post1-py2.py3-none-any.whl.metadata (22 kB)\n",
      "Requirement already satisfied: tzdata>=2022.1 in c:\\users\\user\\appdata\\local\\programs\\python\\python311\\lib\\site-packages (from pandas) (2023.3)\n",
      "Requirement already satisfied: six>=1.5 in c:\\users\\user\\appdata\\roaming\\python\\python311\\site-packages (from python-dateutil>=2.8.2->pandas) (1.16.0)\n",
      "Downloading pandas-2.1.0-cp311-cp311-win_amd64.whl (11.0 MB)\n",
      "   ---------------------------------------- 0.0/11.0 MB ? eta -:--:--\n",
      "   ---------------------------------------- 0.0/11.0 MB 960.0 kB/s eta 0:00:12\n",
      "    --------------------------------------- 0.2/11.0 MB 1.8 MB/s eta 0:00:06\n",
      "    --------------------------------------- 0.2/11.0 MB 2.1 MB/s eta 0:00:06\n",
      "   - -------------------------------------- 0.5/11.0 MB 3.0 MB/s eta 0:00:04\n",
      "   -- ------------------------------------- 0.6/11.0 MB 3.2 MB/s eta 0:00:04\n",
      "   -- ------------------------------------- 0.8/11.0 MB 3.4 MB/s eta 0:00:04\n",
      "   ---- ----------------------------------- 1.2/11.0 MB 4.4 MB/s eta 0:00:03\n",
      "   ----- ---------------------------------- 1.5/11.0 MB 4.4 MB/s eta 0:00:03\n",
      "   ------ --------------------------------- 1.8/11.0 MB 5.0 MB/s eta 0:00:02\n",
      "   -------- ------------------------------- 2.3/11.0 MB 5.6 MB/s eta 0:00:02\n",
      "   --------- ------------------------------ 2.5/11.0 MB 5.8 MB/s eta 0:00:02\n",
      "   ---------- ----------------------------- 2.9/11.0 MB 6.3 MB/s eta 0:00:02\n",
      "   ------------ --------------------------- 3.4/11.0 MB 6.6 MB/s eta 0:00:02\n",
      "   -------------- ------------------------- 3.9/11.0 MB 7.2 MB/s eta 0:00:01\n",
      "   ---------------- ----------------------- 4.5/11.0 MB 7.5 MB/s eta 0:00:01\n",
      "   ------------------ --------------------- 5.0/11.0 MB 7.7 MB/s eta 0:00:01\n",
      "   ------------------- -------------------- 5.4/11.0 MB 8.0 MB/s eta 0:00:01\n",
      "   --------------------- ------------------ 6.0/11.0 MB 8.3 MB/s eta 0:00:01\n",
      "   ----------------------- ---------------- 6.6/11.0 MB 8.4 MB/s eta 0:00:01\n",
      "   ------------------------- -------------- 7.0/11.0 MB 8.7 MB/s eta 0:00:01\n",
      "   --------------------------- ------------ 7.7/11.0 MB 8.9 MB/s eta 0:00:01\n",
      "   ----------------------------- ---------- 8.1/11.0 MB 9.1 MB/s eta 0:00:01\n",
      "   ------------------------------- -------- 8.7/11.0 MB 9.1 MB/s eta 0:00:01\n",
      "   --------------------------------- ------ 9.3/11.0 MB 9.4 MB/s eta 0:00:01\n",
      "   ----------------------------------- ---- 9.9/11.0 MB 9.6 MB/s eta 0:00:01\n",
      "   ------------------------------------- -- 10.3/11.0 MB 10.2 MB/s eta 0:00:01\n",
      "   ---------------------------------------  10.9/11.0 MB 11.3 MB/s eta 0:00:01\n",
      "   ---------------------------------------  11.0/11.0 MB 11.3 MB/s eta 0:00:01\n",
      "   ---------------------------------------- 11.0/11.0 MB 10.9 MB/s eta 0:00:00\n",
      "Downloading pytz-2023.3.post1-py2.py3-none-any.whl (502 kB)\n",
      "   ---------------------------------------- 0.0/502.5 kB ? eta -:--:--\n",
      "   ---------------------------- ---------- 368.6/502.5 kB 11.2 MB/s eta 0:00:01\n",
      "   --------------------------------------- 502.5/502.5 kB 10.5 MB/s eta 0:00:00\n",
      "Installing collected packages: pytz, pandas\n",
      "Successfully installed pandas-2.1.0 pytz-2023.3.post1\n",
      "Note: you may need to restart the kernel to use updated packages.\n"
     ]
    }
   ],
   "source": [
    "pip install pandas"
   ]
  },
  {
   "cell_type": "code",
   "execution_count": 2,
   "metadata": {},
   "outputs": [],
   "source": [
    "import pandas as pd\n",
    "import numpy as np"
   ]
  },
  {
   "cell_type": "code",
   "execution_count": 5,
   "metadata": {},
   "outputs": [
    {
     "name": "stdout",
     "output_type": "stream",
     "text": [
      "a    1\n",
      "b    2\n",
      "c    3\n",
      "d    4\n",
      "dtype: int32\n"
     ]
    }
   ],
   "source": [
    "etiquetas=['a','b','c','d']\n",
    "datos=np.arange(1,5)\n",
    "serie=pd.Series(datos,index=etiquetas)\n",
    "print(serie)"
   ]
  },
  {
   "cell_type": "code",
   "execution_count": 6,
   "metadata": {},
   "outputs": [
    {
     "name": "stdout",
     "output_type": "stream",
     "text": [
      "3\n"
     ]
    }
   ],
   "source": [
    "print(serie['c'])"
   ]
  },
  {
   "cell_type": "code",
   "execution_count": 7,
   "metadata": {},
   "outputs": [
    {
     "name": "stdout",
     "output_type": "stream",
     "text": [
      "0      Danny\n",
      "1         27\n",
      "2    Mishell\n",
      "3         26\n",
      "dtype: object\n"
     ]
    }
   ],
   "source": [
    "datos=['Danny',27,'Mishell',26]\n",
    "serie=pd.Series(datos)\n",
    "print(serie)"
   ]
  },
  {
   "cell_type": "code",
   "execution_count": 8,
   "metadata": {},
   "outputs": [
    {
     "name": "stdout",
     "output_type": "stream",
     "text": [
      "Empresa1     100\n",
      "Empresa2     500\n",
      "Empresa3    1200\n",
      "Empresa4     700\n",
      "dtype: int64\n"
     ]
    }
   ],
   "source": [
    "serie=pd.Series([100,500,1200,700],['Empresa1','Empresa2','Empresa3','Empresa4'])\n",
    "print(serie)"
   ]
  },
  {
   "cell_type": "code",
   "execution_count": 9,
   "metadata": {},
   "outputs": [
    {
     "name": "stdout",
     "output_type": "stream",
     "text": [
      "Empresa1     1100\n",
      "Empresa2     5501\n",
      "Empresa3     2400\n",
      "Empresa4    70702\n",
      "dtype: int64\n"
     ]
    }
   ],
   "source": [
    "serie1=pd.Series([100,500,1200,700],['Empresa1','Empresa2','Empresa3','Empresa4'])\n",
    "serie2=pd.Series([1000,5001,1200,70002],['Empresa1','Empresa2','Empresa3','Empresa4'])\n",
    "serie3=serie1+serie2\n",
    "print(serie3)"
   ]
  },
  {
   "cell_type": "code",
   "execution_count": 27,
   "metadata": {},
   "outputs": [
    {
     "name": "stdout",
     "output_type": "stream",
     "text": [
      "          tienda1  tienda2  tienda3\n",
      "Empresa1      NaN    100.0      200\n",
      "Empresa2      NaN    100.0      300\n",
      "Empresa3    300.0      NaN      400\n",
      "Empresa4      NaN    100.0      500\n"
     ]
    }
   ],
   "source": [
    "filas=['Empresa1','Empresa2','Empresa3','Empresa4']\n",
    "columnas=['tienda1','tienda2','tienda3']\n",
    "datos=[[np.nan,100,200],[np.nan,100,300],[300,np.nan,400],[np.nan,100,500]]\n",
    "dataFrame=pd.DataFrame(datos,index=filas,columns=columnas)\n",
    "print(dataFrame)"
   ]
  },
  {
   "cell_type": "code",
   "execution_count": 28,
   "metadata": {},
   "outputs": [
    {
     "name": "stdout",
     "output_type": "stream",
     "text": [
      "tienda1      NaN\n",
      "tienda2    100.0\n",
      "tienda3    300.0\n",
      "Name: Empresa2, dtype: float64\n"
     ]
    }
   ],
   "source": [
    "print(dataFrame.loc['Empresa2'])"
   ]
  },
  {
   "cell_type": "code",
   "execution_count": 29,
   "metadata": {},
   "outputs": [
    {
     "name": "stdout",
     "output_type": "stream",
     "text": [
      "          tienda1  tienda2  tienda3\n",
      "Empresa2      NaN    100.0      300\n",
      "Empresa3    300.0      NaN      400\n"
     ]
    }
   ],
   "source": [
    "print(dataFrame.loc[['Empresa2','Empresa3']])"
   ]
  },
  {
   "cell_type": "code",
   "execution_count": 30,
   "metadata": {},
   "outputs": [
    {
     "name": "stdout",
     "output_type": "stream",
     "text": [
      "          tienda1  tienda2  tienda3  total\n",
      "Empresa1      NaN    100.0      200    NaN\n",
      "Empresa2      NaN    100.0      300    NaN\n",
      "Empresa3    300.0      NaN      400    NaN\n",
      "Empresa4      NaN    100.0      500    NaN\n"
     ]
    }
   ],
   "source": [
    "dataFrame['total']=dataFrame['tienda1']+dataFrame['tienda2']+dataFrame['tienda3']\n",
    "print(dataFrame)"
   ]
  },
  {
   "cell_type": "code",
   "execution_count": 31,
   "metadata": {},
   "outputs": [
    {
     "name": "stdout",
     "output_type": "stream",
     "text": [
      "          tienda1  tienda2  tienda3\n",
      "Empresa1      NaN    100.0      200\n",
      "Empresa2      NaN    100.0      300\n",
      "Empresa3    300.0      NaN      400\n",
      "Empresa4      NaN    100.0      500\n"
     ]
    }
   ],
   "source": [
    "#borrar una columna\n",
    "print(dataFrame.drop(['total'],axis=1))"
   ]
  },
  {
   "cell_type": "code",
   "execution_count": 20,
   "metadata": {},
   "outputs": [
    {
     "name": "stdout",
     "output_type": "stream",
     "text": [
      "          tienda1  tienda2  tienda3\n",
      "Empresa1      NaN    100.0      200\n",
      "Empresa2      NaN    100.0      300\n",
      "Empresa3    300.0      NaN      400\n",
      "Empresa4      NaN    100.0      500\n"
     ]
    }
   ],
   "source": [
    "#Para eliminar definitivamente la columna total haciendo uso de inplace desde la original\n",
    "#print(dataFrame.drop(['total'],axis=1,inplace=True))\n",
    "#print(dataFrame)"
   ]
  },
  {
   "cell_type": "code",
   "execution_count": 32,
   "metadata": {},
   "outputs": [
    {
     "name": "stdout",
     "output_type": "stream",
     "text": [
      "          tienda1  tienda2  tienda3  total\n",
      "Empresa1      NaN      NaN      NaN    NaN\n",
      "Empresa2      NaN      NaN    300.0    NaN\n",
      "Empresa3    300.0      NaN    400.0    NaN\n",
      "Empresa4      NaN      NaN    500.0    NaN\n"
     ]
    }
   ],
   "source": [
    "condicion= dataFrame>200\n",
    "print(dataFrame[condicion])"
   ]
  },
  {
   "cell_type": "code",
   "execution_count": 33,
   "metadata": {},
   "outputs": [
    {
     "name": "stdout",
     "output_type": "stream",
     "text": [
      "          tienda1  tienda2  tienda3  total\n",
      "Empresa3    300.0      NaN      400    NaN\n"
     ]
    }
   ],
   "source": [
    "condicion=(dataFrame['tienda1']>=200 & (dataFrame['tienda2']>=100))\n",
    "print(dataFrame[condicion])"
   ]
  },
  {
   "cell_type": "code",
   "execution_count": 34,
   "metadata": {},
   "outputs": [
    {
     "name": "stdout",
     "output_type": "stream",
     "text": [
      "          tienda1  tienda2  tienda3  total indice\n",
      "Empresa1      NaN    100.0      200    NaN      1\n",
      "Empresa2      NaN    100.0      300    NaN      2\n",
      "Empresa3    300.0      NaN      400    NaN      3\n",
      "Empresa4      NaN    100.0      500    NaN      4\n"
     ]
    }
   ],
   "source": [
    "nuevaColumna='1 2 3 4'.split()\n",
    "dataFrame['indice']=nuevaColumna\n",
    "print(dataFrame)"
   ]
  },
  {
   "cell_type": "code",
   "execution_count": 35,
   "metadata": {},
   "outputs": [
    {
     "name": "stdout",
     "output_type": "stream",
     "text": [
      "        tienda1  tienda2  tienda3  total\n",
      "indice                                  \n",
      "1           NaN    100.0      200    NaN\n",
      "2           NaN    100.0      300    NaN\n",
      "3         300.0      NaN      400    NaN\n",
      "4           NaN    100.0      500    NaN\n"
     ]
    }
   ],
   "source": [
    "dataFrame=dataFrame.set_index('indice')\n",
    "print(dataFrame)"
   ]
  },
  {
   "cell_type": "code",
   "execution_count": 25,
   "metadata": {},
   "outputs": [
    {
     "name": "stdout",
     "output_type": "stream",
     "text": [
      "        tienda3\n",
      "indice         \n",
      "1           200\n",
      "2           300\n",
      "3           400\n",
      "4           500\n"
     ]
    }
   ],
   "source": [
    "#Eliminar datos nulos\n",
    "eliminarColumnasNulas=dataFrame.dropna(axis=1,inplace=True)\n",
    "print(eliminarColumnasNulas)"
   ]
  },
  {
   "cell_type": "code",
   "execution_count": 36,
   "metadata": {},
   "outputs": [
    {
     "name": "stdout",
     "output_type": "stream",
     "text": [
      "        tienda1  tienda2  tienda3  total\n",
      "indice                                  \n",
      "1         100.0    100.0      200  100.0\n",
      "2         100.0    100.0      300  100.0\n",
      "3         300.0    100.0      400  100.0\n",
      "4         100.0    100.0      500  100.0\n"
     ]
    }
   ],
   "source": [
    "dataFrame.fillna(value=100, inplace=True)\n",
    "print(dataFrame)"
   ]
  },
  {
   "cell_type": "code",
   "execution_count": 38,
   "metadata": {},
   "outputs": [
    {
     "name": "stdout",
     "output_type": "stream",
     "text": [
      "La media es igual a:\n",
      " tienda1    150.0\n",
      "tienda2    100.0\n",
      "tienda3    350.0\n",
      "total      100.0\n",
      "dtype: float64\n"
     ]
    }
   ],
   "source": [
    "#fillna para llenar con valores que deseemos \n",
    "media=dataFrame.mean()\n",
    "print(\"La media es igual a:\\n\", media)\n",
    "dataFrame.fillna(value=media, inplace=True)"
   ]
  },
  {
   "cell_type": "code",
   "execution_count": 42,
   "metadata": {},
   "outputs": [
    {
     "name": "stdout",
     "output_type": "stream",
     "text": [
      "        tienda1  tienda2  tienda3  total\n",
      "indice                                  \n",
      "1         100.0    100.0      200  100.0\n",
      "2         100.0    100.0      300  100.0\n",
      "3         300.0    100.0      400  100.0\n",
      "4         100.0    100.0      500  100.0\n",
      "        tienda1  tienda2  tienda3  total\n",
      "indice                                  \n",
      "1         100.0    100.0      200  100.0\n",
      "2         100.0    100.0      300  100.0\n",
      "3         300.0    100.0      400  100.0\n",
      "4         100.0    100.0      500  100.0\n",
      "\t\tDatas unidas: \n",
      "        tienda1  tienda2  tienda3  total\n",
      "indice                                  \n",
      "1         100.0    100.0      200  100.0\n",
      "2         100.0    100.0      300  100.0\n",
      "3         300.0    100.0      400  100.0\n",
      "4         100.0    100.0      500  100.0\n",
      "1         100.0    100.0      200  100.0\n",
      "2         100.0    100.0      300  100.0\n",
      "3         300.0    100.0      400  100.0\n",
      "4         100.0    100.0      500  100.0\n"
     ]
    }
   ],
   "source": [
    "data1=dataFrame.copy()\n",
    "data2=dataFrame.copy()\n",
    "print(data1)\n",
    "print(data2)\n",
    "dataTotal=pd.concat([data1,data2],axis=0)\n",
    "print(\"\\t\\tDatas unidas \")\n",
    "print(dataTotal)"
   ]
  },
  {
   "cell_type": "code",
   "execution_count": 43,
   "metadata": {},
   "outputs": [
    {
     "name": "stdout",
     "output_type": "stream",
     "text": [
      "[100. 300.]\n"
     ]
    }
   ],
   "source": [
    "print(dataFrame['tienda1'].unique())"
   ]
  },
  {
   "cell_type": "code",
   "execution_count": 44,
   "metadata": {},
   "outputs": [
    {
     "name": "stdout",
     "output_type": "stream",
     "text": [
      "tienda1\n",
      "100.0    3\n",
      "300.0    1\n",
      "Name: count, dtype: int64\n"
     ]
    }
   ],
   "source": [
    "print(dataFrame['tienda1'].value_counts())"
   ]
  },
  {
   "cell_type": "code",
   "execution_count": 45,
   "metadata": {},
   "outputs": [
    {
     "name": "stdout",
     "output_type": "stream",
     "text": [
      "        tienda1  tienda2  tienda3  total\n",
      "indice                                  \n",
      "1         300.0    300.0      600  300.0\n",
      "2         300.0    300.0      900  300.0\n",
      "3         900.0    300.0     1200  300.0\n",
      "4         300.0    300.0     1500  300.0\n",
      "1         300.0    300.0      600  300.0\n",
      "2         300.0    300.0      900  300.0\n",
      "3         900.0    300.0     1200  300.0\n",
      "4         300.0    300.0     1500  300.0\n"
     ]
    }
   ],
   "source": [
    "#Al hacer uso de lambda se le aplica a cada elemento\n",
    "dataTotal=dataTotal.apply(lambda x:x*3)\n",
    "print(dataTotal)"
   ]
  },
  {
   "cell_type": "code",
   "execution_count": 46,
   "metadata": {},
   "outputs": [
    {
     "name": "stdout",
     "output_type": "stream",
     "text": [
      "Index(['tienda1', 'tienda2', 'tienda3', 'total'], dtype='object')\n"
     ]
    }
   ],
   "source": [
    "print(dataTotal.columns)"
   ]
  },
  {
   "cell_type": "code",
   "execution_count": 47,
   "metadata": {},
   "outputs": [
    {
     "data": {
      "text/plain": [
       "Index(['tienda1', 'tienda2', 'tienda3', 'total'], dtype='object')"
      ]
     },
     "execution_count": 47,
     "metadata": {},
     "output_type": "execute_result"
    }
   ],
   "source": [
    "dataTotal.columns"
   ]
  },
  {
   "cell_type": "code",
   "execution_count": 48,
   "metadata": {},
   "outputs": [
    {
     "data": {
      "text/plain": [
       "Index(['1', '2', '3', '4', '1', '2', '3', '4'], dtype='object', name='indice')"
      ]
     },
     "execution_count": 48,
     "metadata": {},
     "output_type": "execute_result"
    }
   ],
   "source": [
    "dataTotal.index"
   ]
  },
  {
   "cell_type": "code",
   "execution_count": 49,
   "metadata": {},
   "outputs": [
    {
     "name": "stdout",
     "output_type": "stream",
     "text": [
      "        tienda1  tienda2  tienda3  total\n",
      "indice                                  \n",
      "1         300.0    300.0      600  300.0\n",
      "1         300.0    300.0      600  300.0\n",
      "2         300.0    300.0      900  300.0\n",
      "2         300.0    300.0      900  300.0\n",
      "3         900.0    300.0     1200  300.0\n",
      "3         900.0    300.0     1200  300.0\n",
      "4         300.0    300.0     1500  300.0\n",
      "4         300.0    300.0     1500  300.0\n"
     ]
    }
   ],
   "source": [
    "#ordenar de menor a mayor\n",
    "print(dataTotal.sort_values(['tienda3']))"
   ]
  }
 ],
 "metadata": {
  "kernelspec": {
   "display_name": "Python 3",
   "language": "python",
   "name": "python3"
  },
  "language_info": {
   "codemirror_mode": {
    "name": "ipython",
    "version": 3
   },
   "file_extension": ".py",
   "mimetype": "text/x-python",
   "name": "python",
   "nbconvert_exporter": "python",
   "pygments_lexer": "ipython3",
   "version": "3.11.5"
  },
  "orig_nbformat": 4
 },
 "nbformat": 4,
 "nbformat_minor": 2
}
