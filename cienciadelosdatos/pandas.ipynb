{
 "cells": [
  {
   "cell_type": "code",
   "execution_count": 2,
   "metadata": {},
   "outputs": [
    {
     "name": "stdout",
     "output_type": "stream",
     "text": [
      "Collecting pandas\n",
      "  Obtaining dependency information for pandas from https://files.pythonhosted.org/packages/b7/f8/32d6b5aa4c4bc045fa2c4c58f88c325facc54721956c6313f0afea8ea853/pandas-2.1.0-cp311-cp311-win_amd64.whl.metadata\n",
      "  Downloading pandas-2.1.0-cp311-cp311-win_amd64.whl.metadata (18 kB)\n",
      "Requirement already satisfied: numpy>=1.23.2 in c:\\users\\user\\appdata\\local\\programs\\python\\python311\\lib\\site-packages (from pandas) (1.26.0)\n",
      "Requirement already satisfied: python-dateutil>=2.8.2 in c:\\users\\user\\appdata\\roaming\\python\\python311\\site-packages (from pandas) (2.8.2)\n",
      "Collecting pytz>=2020.1 (from pandas)\n",
      "  Obtaining dependency information for pytz>=2020.1 from https://files.pythonhosted.org/packages/32/4d/aaf7eff5deb402fd9a24a1449a8119f00d74ae9c2efa79f8ef9994261fc2/pytz-2023.3.post1-py2.py3-none-any.whl.metadata\n",
      "  Downloading pytz-2023.3.post1-py2.py3-none-any.whl.metadata (22 kB)\n",
      "Requirement already satisfied: tzdata>=2022.1 in c:\\users\\user\\appdata\\local\\programs\\python\\python311\\lib\\site-packages (from pandas) (2023.3)\n",
      "Requirement already satisfied: six>=1.5 in c:\\users\\user\\appdata\\roaming\\python\\python311\\site-packages (from python-dateutil>=2.8.2->pandas) (1.16.0)\n",
      "Downloading pandas-2.1.0-cp311-cp311-win_amd64.whl (11.0 MB)\n",
      "   ---------------------------------------- 0.0/11.0 MB ? eta -:--:--\n",
      "   ---------------------------------------- 0.0/11.0 MB 960.0 kB/s eta 0:00:12\n",
      "    --------------------------------------- 0.2/11.0 MB 1.8 MB/s eta 0:00:06\n",
      "    --------------------------------------- 0.2/11.0 MB 2.1 MB/s eta 0:00:06\n",
      "   - -------------------------------------- 0.5/11.0 MB 3.0 MB/s eta 0:00:04\n",
      "   -- ------------------------------------- 0.6/11.0 MB 3.2 MB/s eta 0:00:04\n",
      "   -- ------------------------------------- 0.8/11.0 MB 3.4 MB/s eta 0:00:04\n",
      "   ---- ----------------------------------- 1.2/11.0 MB 4.4 MB/s eta 0:00:03\n",
      "   ----- ---------------------------------- 1.5/11.0 MB 4.4 MB/s eta 0:00:03\n",
      "   ------ --------------------------------- 1.8/11.0 MB 5.0 MB/s eta 0:00:02\n",
      "   -------- ------------------------------- 2.3/11.0 MB 5.6 MB/s eta 0:00:02\n",
      "   --------- ------------------------------ 2.5/11.0 MB 5.8 MB/s eta 0:00:02\n",
      "   ---------- ----------------------------- 2.9/11.0 MB 6.3 MB/s eta 0:00:02\n",
      "   ------------ --------------------------- 3.4/11.0 MB 6.6 MB/s eta 0:00:02\n",
      "   -------------- ------------------------- 3.9/11.0 MB 7.2 MB/s eta 0:00:01\n",
      "   ---------------- ----------------------- 4.5/11.0 MB 7.5 MB/s eta 0:00:01\n",
      "   ------------------ --------------------- 5.0/11.0 MB 7.7 MB/s eta 0:00:01\n",
      "   ------------------- -------------------- 5.4/11.0 MB 8.0 MB/s eta 0:00:01\n",
      "   --------------------- ------------------ 6.0/11.0 MB 8.3 MB/s eta 0:00:01\n",
      "   ----------------------- ---------------- 6.6/11.0 MB 8.4 MB/s eta 0:00:01\n",
      "   ------------------------- -------------- 7.0/11.0 MB 8.7 MB/s eta 0:00:01\n",
      "   --------------------------- ------------ 7.7/11.0 MB 8.9 MB/s eta 0:00:01\n",
      "   ----------------------------- ---------- 8.1/11.0 MB 9.1 MB/s eta 0:00:01\n",
      "   ------------------------------- -------- 8.7/11.0 MB 9.1 MB/s eta 0:00:01\n",
      "   --------------------------------- ------ 9.3/11.0 MB 9.4 MB/s eta 0:00:01\n",
      "   ----------------------------------- ---- 9.9/11.0 MB 9.6 MB/s eta 0:00:01\n",
      "   ------------------------------------- -- 10.3/11.0 MB 10.2 MB/s eta 0:00:01\n",
      "   ---------------------------------------  10.9/11.0 MB 11.3 MB/s eta 0:00:01\n",
      "   ---------------------------------------  11.0/11.0 MB 11.3 MB/s eta 0:00:01\n",
      "   ---------------------------------------- 11.0/11.0 MB 10.9 MB/s eta 0:00:00\n",
      "Downloading pytz-2023.3.post1-py2.py3-none-any.whl (502 kB)\n",
      "   ---------------------------------------- 0.0/502.5 kB ? eta -:--:--\n",
      "   ---------------------------- ---------- 368.6/502.5 kB 11.2 MB/s eta 0:00:01\n",
      "   --------------------------------------- 502.5/502.5 kB 10.5 MB/s eta 0:00:00\n",
      "Installing collected packages: pytz, pandas\n",
      "Successfully installed pandas-2.1.0 pytz-2023.3.post1\n",
      "Note: you may need to restart the kernel to use updated packages.\n"
     ]
    }
   ],
   "source": [
    "pip install pandas"
   ]
  },
  {
   "cell_type": "code",
   "execution_count": null,
   "metadata": {},
   "outputs": [],
   "source": [
    "import pandas as pd\n",
    "import numpy as np"
   ]
  }
 ],
 "metadata": {
  "kernelspec": {
   "display_name": "Python 3",
   "language": "python",
   "name": "python3"
  },
  "language_info": {
   "codemirror_mode": {
    "name": "ipython",
    "version": 3
   },
   "file_extension": ".py",
   "mimetype": "text/x-python",
   "name": "python",
   "nbconvert_exporter": "python",
   "pygments_lexer": "ipython3",
   "version": "3.11.5"
  },
  "orig_nbformat": 4
 },
 "nbformat": 4,
 "nbformat_minor": 2
}
